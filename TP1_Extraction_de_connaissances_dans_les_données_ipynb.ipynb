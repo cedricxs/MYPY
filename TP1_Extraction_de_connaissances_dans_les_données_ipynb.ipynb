{
  "nbformat": 4,
  "nbformat_minor": 0,
  "metadata": {
    "colab": {
      "name": "“TP1  Extraction de connaissances dans les données.ipynb”的副本",
      "provenance": [],
      "collapsed_sections": [
        "bf7WF7V6Mswu",
        "-vPSnCYEK59b",
        "aLoWIsZaOiAH",
        "zEHoZIi6wqg0"
      ],
      "toc_visible": true,
      "include_colab_link": true
    },
    "kernelspec": {
      "name": "python3",
      "display_name": "Python 3"
    }
  },
  "cells": [
    {
      "cell_type": "markdown",
      "metadata": {
        "id": "view-in-github",
        "colab_type": "text"
      },
      "source": [
        "<a href=\"https://colab.research.google.com/github/cedricxs/MYPY/blob/master/TP1_Extraction_de_connaissances_dans_les_donn%C3%A9es_ipynb.ipynb\" target=\"_parent\"><img src=\"https://colab.research.google.com/assets/colab-badge.svg\" alt=\"Open In Colab\"/></a>"
      ]
    },
    {
      "cell_type": "markdown",
      "metadata": {
        "id": "bf7WF7V6Mswu",
        "colab_type": "text"
      },
      "source": [
        "# 1. Fonctions basiques de pandas"
      ]
    },
    {
      "cell_type": "markdown",
      "metadata": {
        "id": "S9eMcCxiEgxo",
        "colab_type": "text"
      },
      "source": [
        "Dans ce TP, nous allons étudier le jeu de données german.data qui décrit des prêts accordés par une banque allemande. Chaque ligne correspond à un prêt.\n"
      ]
    },
    {
      "cell_type": "code",
      "metadata": {
        "id": "KkxQ2Ok0Dw07",
        "colab_type": "code",
        "colab": {}
      },
      "source": [
        "import pandas\n",
        "df = pandas.read_csv(\"/content/drive/My Drive/INFO 4/Extraction de connaissances dans les données/TP1/german.data\", sep=\"\\t\")"
      ],
      "execution_count": 0,
      "outputs": []
    },
    {
      "cell_type": "markdown",
      "metadata": {
        "id": "-JDiT2h6Hgl5",
        "colab_type": "text"
      },
      "source": [
        "Kit de survie pour utiliser pandas :\n",
        "\n",
        "```\n",
        "import pandas\n",
        "df = pandas.read_csv(\"german.data\", sep=\"\\t\")\n",
        "df.dtypes\n",
        "df.shape\n",
        "df.count()\n",
        "df.describe()\n",
        "```\n",
        "\n",
        "Les colonnes sont stockées dans des Series\n",
        "\n",
        "Les tableaux de données sont stockés dans des Dataframe\n",
        "\n",
        "Accès aux noms des lignes : `df.index`\n",
        "\n",
        "Accès aux noms des colonnes : `df.columns`\n",
        "\n",
        "Accès à une ligne : `df.iloc[i,:]` ou `df.iloc[i]`\n",
        "\n",
        "Accès à une colonne : `df.iloc[:,j]`"
      ]
    },
    {
      "cell_type": "markdown",
      "metadata": {
        "id": "FZeu1gtRIwI9",
        "colab_type": "text"
      },
      "source": [
        "\n",
        "Afin d'accéder aux types des colonnes, on utilise `df.dtypes`\n",
        "\n"
      ]
    },
    {
      "cell_type": "code",
      "metadata": {
        "id": "C0qrXGYcEgYN",
        "colab_type": "code",
        "outputId": "0492408e-4ac9-48ba-aafb-554a3780b86b",
        "colab": {
          "base_uri": "https://localhost:8080/",
          "height": 391
        }
      },
      "source": [
        "df.dtypes"
      ],
      "execution_count": 0,
      "outputs": [
        {
          "output_type": "execute_result",
          "data": {
            "text/plain": [
              "checking_status            object\n",
              "duration                  float64\n",
              "credit_history             object\n",
              "purpose                    object\n",
              "credit_amount             float64\n",
              "savings_status             object\n",
              "employment                 object\n",
              "installment_commitment    float64\n",
              "personal_status            object\n",
              "other_parties              object\n",
              "residence_since           float64\n",
              "property_magnitude         object\n",
              "age                       float64\n",
              "other_payment_plans        object\n",
              "housing                    object\n",
              "existing_credits          float64\n",
              "job                        object\n",
              "num_dependents            float64\n",
              "own_telephone              object\n",
              "foreign_worker             object\n",
              "class                       int64\n",
              "dtype: object"
            ]
          },
          "metadata": {
            "tags": []
          },
          "execution_count": 15
        }
      ]
    },
    {
      "cell_type": "markdown",
      "metadata": {
        "id": "YYDl6U0IJDTL",
        "colab_type": "text"
      },
      "source": [
        "Pour avoir accès à la dimensuion des données, on utilise `df.shape`"
      ]
    },
    {
      "cell_type": "code",
      "metadata": {
        "id": "cfNhBPsDJHrU",
        "colab_type": "code",
        "outputId": "7f957ea3-bb52-42ae-ed07-3e25f47dc15b",
        "colab": {
          "base_uri": "https://localhost:8080/",
          "height": 34
        }
      },
      "source": [
        "df.shape"
      ],
      "execution_count": 0,
      "outputs": [
        {
          "output_type": "execute_result",
          "data": {
            "text/plain": [
              "(1000, 21)"
            ]
          },
          "metadata": {
            "tags": []
          },
          "execution_count": 14
        }
      ]
    },
    {
      "cell_type": "markdown",
      "metadata": {
        "id": "tH1N8eedJmFI",
        "colab_type": "text"
      },
      "source": [
        "Pour avoir accès au nombre de données par colonnes, on utilise `df.count()`"
      ]
    },
    {
      "cell_type": "code",
      "metadata": {
        "id": "RcNC9XVCJSjP",
        "colab_type": "code",
        "outputId": "3326eee2-a12a-4c97-a972-5bcef8dda310",
        "colab": {
          "base_uri": "https://localhost:8080/",
          "height": 391
        }
      },
      "source": [
        "df.count()\n",
        "\n"
      ],
      "execution_count": 0,
      "outputs": [
        {
          "output_type": "execute_result",
          "data": {
            "text/plain": [
              "checking_status           1000\n",
              "duration                  1000\n",
              "credit_history            1000\n",
              "purpose                   1000\n",
              "credit_amount             1000\n",
              "savings_status            1000\n",
              "employment                1000\n",
              "installment_commitment    1000\n",
              "personal_status           1000\n",
              "other_parties             1000\n",
              "residence_since           1000\n",
              "property_magnitude        1000\n",
              "age                       1000\n",
              "other_payment_plans       1000\n",
              "housing                   1000\n",
              "existing_credits          1000\n",
              "job                       1000\n",
              "num_dependents            1000\n",
              "own_telephone             1000\n",
              "foreign_worker            1000\n",
              "class                     1000\n",
              "dtype: int64"
            ]
          },
          "metadata": {
            "tags": []
          },
          "execution_count": 17
        }
      ]
    },
    {
      "cell_type": "markdown",
      "metadata": {
        "id": "fOKOIgeoJuvD",
        "colab_type": "text"
      },
      "source": [
        "Afin d'accéder à une description de nos données, on peut utiliser `df.describe()`"
      ]
    },
    {
      "cell_type": "code",
      "metadata": {
        "id": "B5UsYKbvJ1vD",
        "colab_type": "code",
        "outputId": "1f9628ea-f1d3-42e1-e27d-004d3f80f3a2",
        "colab": {
          "base_uri": "https://localhost:8080/",
          "height": 297
        }
      },
      "source": [
        "df.describe()"
      ],
      "execution_count": 0,
      "outputs": [
        {
          "output_type": "execute_result",
          "data": {
            "text/html": [
              "<div>\n",
              "<style scoped>\n",
              "    .dataframe tbody tr th:only-of-type {\n",
              "        vertical-align: middle;\n",
              "    }\n",
              "\n",
              "    .dataframe tbody tr th {\n",
              "        vertical-align: top;\n",
              "    }\n",
              "\n",
              "    .dataframe thead th {\n",
              "        text-align: right;\n",
              "    }\n",
              "</style>\n",
              "<table border=\"1\" class=\"dataframe\">\n",
              "  <thead>\n",
              "    <tr style=\"text-align: right;\">\n",
              "      <th></th>\n",
              "      <th>duration</th>\n",
              "      <th>credit_amount</th>\n",
              "      <th>installment_commitment</th>\n",
              "      <th>residence_since</th>\n",
              "      <th>age</th>\n",
              "      <th>existing_credits</th>\n",
              "      <th>num_dependents</th>\n",
              "      <th>class</th>\n",
              "    </tr>\n",
              "  </thead>\n",
              "  <tbody>\n",
              "    <tr>\n",
              "      <th>count</th>\n",
              "      <td>1000.000000</td>\n",
              "      <td>1000.000000</td>\n",
              "      <td>1000.000000</td>\n",
              "      <td>1000.000000</td>\n",
              "      <td>1000.000000</td>\n",
              "      <td>1000.000000</td>\n",
              "      <td>1000.000000</td>\n",
              "      <td>1000.000000</td>\n",
              "    </tr>\n",
              "    <tr>\n",
              "      <th>mean</th>\n",
              "      <td>20.903000</td>\n",
              "      <td>3271.258000</td>\n",
              "      <td>2.973000</td>\n",
              "      <td>2.845000</td>\n",
              "      <td>35.546000</td>\n",
              "      <td>1.407000</td>\n",
              "      <td>1.155000</td>\n",
              "      <td>0.300000</td>\n",
              "    </tr>\n",
              "    <tr>\n",
              "      <th>std</th>\n",
              "      <td>12.058814</td>\n",
              "      <td>2822.736876</td>\n",
              "      <td>1.118715</td>\n",
              "      <td>1.103718</td>\n",
              "      <td>11.375469</td>\n",
              "      <td>0.577654</td>\n",
              "      <td>0.362086</td>\n",
              "      <td>0.458487</td>\n",
              "    </tr>\n",
              "    <tr>\n",
              "      <th>min</th>\n",
              "      <td>4.000000</td>\n",
              "      <td>250.000000</td>\n",
              "      <td>1.000000</td>\n",
              "      <td>1.000000</td>\n",
              "      <td>19.000000</td>\n",
              "      <td>1.000000</td>\n",
              "      <td>1.000000</td>\n",
              "      <td>0.000000</td>\n",
              "    </tr>\n",
              "    <tr>\n",
              "      <th>25%</th>\n",
              "      <td>12.000000</td>\n",
              "      <td>1365.500000</td>\n",
              "      <td>2.000000</td>\n",
              "      <td>2.000000</td>\n",
              "      <td>27.000000</td>\n",
              "      <td>1.000000</td>\n",
              "      <td>1.000000</td>\n",
              "      <td>0.000000</td>\n",
              "    </tr>\n",
              "    <tr>\n",
              "      <th>50%</th>\n",
              "      <td>18.000000</td>\n",
              "      <td>2319.500000</td>\n",
              "      <td>3.000000</td>\n",
              "      <td>3.000000</td>\n",
              "      <td>33.000000</td>\n",
              "      <td>1.000000</td>\n",
              "      <td>1.000000</td>\n",
              "      <td>0.000000</td>\n",
              "    </tr>\n",
              "    <tr>\n",
              "      <th>75%</th>\n",
              "      <td>24.000000</td>\n",
              "      <td>3972.250000</td>\n",
              "      <td>4.000000</td>\n",
              "      <td>4.000000</td>\n",
              "      <td>42.000000</td>\n",
              "      <td>2.000000</td>\n",
              "      <td>1.000000</td>\n",
              "      <td>1.000000</td>\n",
              "    </tr>\n",
              "    <tr>\n",
              "      <th>max</th>\n",
              "      <td>72.000000</td>\n",
              "      <td>18424.000000</td>\n",
              "      <td>4.000000</td>\n",
              "      <td>4.000000</td>\n",
              "      <td>75.000000</td>\n",
              "      <td>4.000000</td>\n",
              "      <td>2.000000</td>\n",
              "      <td>1.000000</td>\n",
              "    </tr>\n",
              "  </tbody>\n",
              "</table>\n",
              "</div>"
            ],
            "text/plain": [
              "          duration  credit_amount  ...  num_dependents        class\n",
              "count  1000.000000    1000.000000  ...     1000.000000  1000.000000\n",
              "mean     20.903000    3271.258000  ...        1.155000     0.300000\n",
              "std      12.058814    2822.736876  ...        0.362086     0.458487\n",
              "min       4.000000     250.000000  ...        1.000000     0.000000\n",
              "25%      12.000000    1365.500000  ...        1.000000     0.000000\n",
              "50%      18.000000    2319.500000  ...        1.000000     0.000000\n",
              "75%      24.000000    3972.250000  ...        1.000000     1.000000\n",
              "max      72.000000   18424.000000  ...        2.000000     1.000000\n",
              "\n",
              "[8 rows x 8 columns]"
            ]
          },
          "metadata": {
            "tags": []
          },
          "execution_count": 18
        }
      ]
    },
    {
      "cell_type": "markdown",
      "metadata": {
        "id": "-vPSnCYEK59b",
        "colab_type": "text"
      },
      "source": [
        "# 2. Visualisation de nos données"
      ]
    },
    {
      "cell_type": "markdown",
      "metadata": {
        "id": "T5U7PD4IK_OQ",
        "colab_type": "text"
      },
      "source": [
        "**Intéressons nous à la variable duration**\n",
        "\n",
        "Traçons l'histogramme de la variable duration :"
      ]
    },
    {
      "cell_type": "code",
      "metadata": {
        "id": "i016IVCILNui",
        "colab_type": "code",
        "outputId": "1f822407-43ce-467c-ec4d-92ac6b0ec336",
        "colab": {
          "base_uri": "https://localhost:8080/",
          "height": 284
        }
      },
      "source": [
        "df.duration.hist()"
      ],
      "execution_count": 0,
      "outputs": [
        {
          "output_type": "execute_result",
          "data": {
            "text/plain": [
              "<matplotlib.axes._subplots.AxesSubplot at 0x7f9c9037bda0>"
            ]
          },
          "metadata": {
            "tags": []
          },
          "execution_count": 37
        },
        {
          "output_type": "display_data",
          "data": {
            "image/png": "[encoded data removed]",
            "text/plain": [
              "<Figure size 432x288 with 1 Axes>"
            ]
          },
          "metadata": {
            "tags": []
          }
        }
      ]
    },
    {
      "cell_type": "markdown",
      "metadata": {
        "id": "gMDd6Bb1LSlX",
        "colab_type": "text"
      },
      "source": [
        "Traçons maintenant la boîte à moustache de notre varaible duration :"
      ]
    },
    {
      "cell_type": "code",
      "metadata": {
        "id": "JWNtEVqpMSZh",
        "colab_type": "code",
        "outputId": "9708ecc7-c36e-487f-ca38-f8e6fe3d3b31",
        "colab": {
          "base_uri": "https://localhost:8080/",
          "height": 282
        }
      },
      "source": [
        "df.boxplot(\"duration\")"
      ],
      "execution_count": 0,
      "outputs": [
        {
          "output_type": "execute_result",
          "data": {
            "text/plain": [
              "<matplotlib.axes._subplots.AxesSubplot at 0x7f9c9180d0b8>"
            ]
          },
          "metadata": {
            "tags": []
          },
          "execution_count": 38
        },
        {
          "output_type": "display_data",
          "data": {
            "image/png": "[encoded data removed]",
            "text/plain": [
              "<Figure size 432x288 with 1 Axes>"
            ]
          },
          "metadata": {
            "tags": []
          }
        }
      ]
    },
    {
      "cell_type": "markdown",
      "metadata": {
        "id": "pZZi_kPrNA7n",
        "colab_type": "text"
      },
      "source": [
        "**Intéressons nous à la variable purpose**\n",
        "\n",
        "Traçons le diagramme en secteur de la variable purpose :"
      ]
    },
    {
      "cell_type": "code",
      "metadata": {
        "id": "-ca7j281NSjr",
        "colab_type": "code",
        "outputId": "c169fcb3-ee45-482b-ff21-e232a554d6df",
        "colab": {
          "base_uri": "https://localhost:8080/",
          "height": 592
        }
      },
      "source": [
        "df.purpose.value_counts().plot.pie(figsize=[10,10])"
      ],
      "execution_count": 0,
      "outputs": [
        {
          "output_type": "execute_result",
          "data": {
            "text/plain": [
              "<matplotlib.axes._subplots.AxesSubplot at 0x7f9c901130b8>"
            ]
          },
          "metadata": {
            "tags": []
          },
          "execution_count": 40
        },
        {
          "output_type": "display_data",
          "data": {
            "image/png": "[encoded data removed]",
            "text/plain": [
              "<Figure size 720x720 with 1 Axes>"
            ]
          },
          "metadata": {
            "tags": []
          }
        }
      ]
    },
    {
      "cell_type": "markdown",
      "metadata": {
        "id": "aLoWIsZaOiAH",
        "colab_type": "text"
      },
      "source": [
        "# 3. Transformation des nos variables pour scikit-learn"
      ]
    },
    {
      "cell_type": "markdown",
      "metadata": {
        "id": "ZSaQw5dQOmkN",
        "colab_type": "text"
      },
      "source": [
        "Importons le module `mca.py` :"
      ]
    },
    {
      "cell_type": "code",
      "metadata": {
        "id": "9tYjRPY3P44G",
        "colab_type": "code",
        "outputId": "462dbce9-e93a-4aaa-bbd0-b5a6a1ca3c89",
        "colab": {
          "resources": {
            "http://localhost:8080/nbextensions/google.colab/files.js": {
              "data": "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",
              "ok": true,
              "headers": [
                [
                  "content-type",
                  "application/javascript"
                ]
              ],
              "status": 200,
              "status_text": ""
            }
          },
          "base_uri": "https://localhost:8080/",
          "height": 111
        }
      },
      "source": [
        "files.upload()"
      ],
      "execution_count": 0,
      "outputs": [
        {
          "output_type": "display_data",
          "data": {
            "text/html": [
              "\n",
              "     <input type=\"file\" id=\"files-bb7eda3f-eb23-49bc-9656-a1ae03c33094\" name=\"files[]\" multiple disabled />\n",
              "     <output id=\"result-bb7eda3f-eb23-49bc-9656-a1ae03c33094\">\n",
              "      Upload widget is only available when the cell has been executed in the\n",
              "      current browser session. Please rerun this cell to enable.\n",
              "      </output>\n",
              "      <script src=\"/nbextensions/google.colab/files.js\"></script> "
            ],
            "text/plain": [
              "<IPython.core.display.HTML object>"
            ]
          },
          "metadata": {
            "tags": []
          }
        },
        {
          "output_type": "stream",
          "text": [
            "Saving mca2.py to mca2 (1).py\n"
          ],
          "name": "stdout"
        },
        {
          "output_type": "execute_result",
          "data": {
            "text/plain": [
              "{'mca2.py': b'# -*- coding: utf-8 -*-\\n\\nimport scipy.linalg, numpy, pandas, functools\\n\\n# import pdb\\n\\ndef dummy(DF, cols=None):\\n\\t\"\"\"Dummy code select columns of a DataFrame.\"\"\"\\n\\treturn pandas.concat((pandas.get_dummies(DF[col]) for col in (DF.columns if cols is None else cols)), \\n\\t\\t\\t\\t\\t\\taxis=1, keys = DF.columns)\\n\\ndef _mul(*args):\\n\\t\"\"\"An internal method to multiply matrices.\"\"\"\\n\\treturn functools.reduce(numpy.dot, args)\\n\\nclass mca:\\n\\t\"\"\"Run MCA on selected columns of a pandas DataFrame. \\n\\tIf the column are specified, assume that they hold \\n\\tcategorical variables that need to be replaced with\\n\\tdummy indicators, otherwise process the DataFrame as is.\\n\\n\\t\\'cols\\': The columns of the DataFrame to process.\\n\\t\\'K\\': The number of columns before dummy coding. To be passed if cols isn\\'t.\\n\\t\\'benzecri\\': Perform Benz\\xc3\\xa9cri correction (default: True)\\n\\t\\'TOL\\': value below which to round eigenvalues to zero\\n\\t\"\"\"\\n\\n\\tdef __init__(self, DF, cols=None, ncols=None, benzecri=True, TOL=1e-4):\\n\\n\\t\\tif cols: # if you want us to do the dummy coding\\n\\t\\t\\tK = len(cols) # the number of categories\\n\\t\\t\\tX = dummy(DF, cols)\\n\\t\\telse: # if you want to dummy code it yourself or do all the cols\\n\\t\\t\\tK = ncols\\n\\t\\t\\tif ncols is None: # be sure to pass K if you did not multi-index\\n\\t\\t\\t\\tK = len(DF.columns) # ... it with mca.dummy()\\n\\t\\t\\t\\tif not K: raise ValueError(\"Your DataFrame has no columns.\")\\n\\t\\t\\telif not isinstance(ncols, int) or ncols<=0 or ncols>len(DF.columns): # if you dummy coded it yourself\\n\\t\\t\\t\\traise ValueError(\"You must pass a valid number of columns.\")\\n\\t\\t\\tX = DF\\n\\t\\tS = X.sum().sum()\\n\\t\\tZ = X/S # correspondence matrix\\n\\t\\tself.r = Z.sum(axis=1)\\n\\t\\tself.c = Z.sum()\\n\\t\\tself._numitems = len(DF)\\n\\t\\tself.cor = benzecri\\n\\t\\tself.D_r = numpy.diag(1/numpy.sqrt(self.r))\\n\\t\\tZ_c = Z - numpy.outer(self.r,self.c) # standardized residuals matrix\\n\\t\\tself.D_c = numpy.diag(1/numpy.sqrt(self.c))\\n\\n\\t\\t# another option, not pursued here, is sklearn.decomposition.TruncatedSVD\\n\\t\\tself.P, self.s, self.Q = scipy.linalg.svd(_mul(self.D_r, Z_c, self.D_c))\\n\\t\\t\\n\\t\\tif benzecri: self.E = numpy.array([(K/(K-1)*(_ - 1/K))**2 \\n\\t\\t\\t\\tif _ > 1/K else 0 for _ in self.s**2])\\n\\t\\tself.inertia = self.E.sum() if benzecri else sum(self.s**2)\\n\\t\\tself.rank = numpy.argmax((self.E if benzecri else self.s**2) < TOL)\\n\\t\\tself.L = (self.E if benzecri else self.s**2)[:self.rank]\\n\\n\\tdef fs_r(self, percent=0.9, N=None):\\n\\t\\t\"\"\"Get the row factor scores (dimensionality-reduced representation),\\n\\t\\tchoosing how many factors to retain, directly or based on the explained variance.\\n\\n\\t\\t\\'percent\\': The minimum variance that the retained factors are required \\n\\t\\t\\t\\t\\tto explain (default: 90% = 0.9)\\n\\t\\t\\'N\\': The number of factors to retain. Overrides \\'percent\\'.\\n\\t\\t\\tIf the rank is less than N, N is ignored.\\n\\t\\t\"\"\"\\n\\t\\tif not 0 <= percent <= 1:\\n\\t\\t\\traise ValueError(\"Percent should be a real number between 0 and 1.\")\\n\\t\\tif N:\\n\\t\\t\\tif not isinstance(N, (int, numpy.int64)) or N<=0:\\n\\t\\t\\t\\traise ValueError(\"N should be a positive integer.\")\\n\\t\\t\\tN = min(N, self.rank)\\n\\t\\t\\t# S = numpy.zeros((self._numitems, N))\\n\\t\\t# else:\\n\\t\\tself.k = 1 + numpy.flatnonzero(numpy.cumsum(self.L) >= sum(self.L)*percent)[0]\\n\\t\\t\\t# S = numpy.zeros((self._numitems, self.k))\\t\\t\\n\\t\\t# the sign of the square root can be either way; singular value vs. eigenvalue\\n\\t\\t# numpy.fill_diagonal(S, -numpy.sqrt(self.E) if self.cor else self.s)\\n\\t\\tnum2ret = N if N else self.k\\n\\t\\ts = -numpy.sqrt(self.L) if self.cor else self.s\\n\\t\\tS = scipy.linalg.diagsvd(s[:num2ret], self._numitems, num2ret)\\t\\t\\n\\t\\tself.F = _mul(self.D_r, self.P, S)\\n\\t\\treturn self.F\\n\\n\\tdef fs_c(self, percent=0.9, N=None):\\n\\t\\t\"\"\"Get the column factor scores (dimensionality-reduced representation),\\n\\t\\tchoosing how many factors to retain, directly or based on the explained variance.\\n\\n\\t\\t\\'percent\\': The minimum variance that the retained factors are required \\n\\t\\t\\t\\t\\tto explain (default: 90% = 0.9)\\n\\t\\t\\'N\\': The number of factors to retain. Overrides \\'percent\\'.\\n\\t\\t\\tIf the rank is less than N, N is ignored.\\n\\t\\t\"\"\"\\n\\t\\tif not 0 <= percent <= 1:\\n\\t\\t\\traise ValueError(\"Percent should be a real number between 0 and 1.\")\\n\\t\\tif N:\\t\\t\\t\\n\\t\\t\\tif not isinstance(N, (int, numpy.int64)) or N<=0:\\n\\t\\t\\t\\traise ValueError(\"N should be a positive integer.\")\\n\\t\\t\\tN = min(N, self.rank) # maybe we should notify the user?\\n\\t\\t\\t# S = numpy.zeros((self._numitems, N))\\n\\t\\t# else:\\n\\t\\tself.k = 1 + numpy.flatnonzero(numpy.cumsum(self.L) >= sum(self.L)*percent)[0]\\n\\t\\t\\t# S = numpy.zeros((self._numitems, self.k))\\t\\t\\n\\t\\t# the sign of the square root can be either way; singular value vs. eigenvalue\\n\\t\\t# numpy.fill_diagonal(S, -numpy.sqrt(self.E) if self.cor else self.s)\\n\\t\\tnum2ret = N if N else self.k\\n\\t\\ts = -numpy.sqrt(self.L) if self.cor else self.s\\n\\t\\tS = scipy.linalg.diagsvd(s[:num2ret], len(self.Q), num2ret)\\n\\t\\tself.G =  _mul(self.D_c, self.Q.T, S) # important! note the transpose on Q\\n\\t\\treturn self.G\\n\\n\\tdef cos_r(self, N=None): #percent=0.9, \\n\\t\\t\"\"\"Return the squared cosines for each row.\"\"\"\\n\\n\\t\\tif not hasattr(self, \\'F\\') or self.F.shape[1] < self.rank: \\n\\t\\t\\tself.fs_r(N=self.rank) # generate F\\n\\t\\tself.dr = numpy.linalg.norm(self.F, axis=1)**2\\n\\t\\t# cheaper than numpy.diag(self.F.dot(self.F.T))?\\n\\n\\t\\treturn numpy.apply_along_axis(lambda _: _/self.dr, 0, self.F[:,:N]**2)\\n\\n\\tdef cos_c(self, N=None): #percent=0.9, \\n\\t\\t\"\"\"Return the squared cosines for each column.\"\"\"\\n\\n\\t\\tif not hasattr(self, \\'G\\') or self.G.shape[1] < self.rank: \\n\\t\\t\\tself.fs_c(N=self.rank) # generate G\\n\\t\\tself.dc = numpy.linalg.norm(self.G, axis=1)**2\\n\\t\\t# cheaper than numpy.diag(self.G.dot(self.G.T))?\\n\\n\\t\\treturn numpy.apply_along_axis(lambda _: _/self.dc, 0, self.G[:,:N]**2)\\t\\t\\n\\n\\tdef cont_r(self, percent=0.9, N=None):\\n\\t\\t\"\"\"Return the contribution of each row.\"\"\"\\n\\n\\t\\tif not hasattr(self, \\'F\\'): self.fs_r(N=self.rank) # generate F\\n\\t\\treturn numpy.apply_along_axis(lambda _: _/self.L[:N], 1, \\n\\t\\t\\tnumpy.apply_along_axis(lambda _: _*self.r, 0, self.F[:,:N]**2))\\n\\n\\tdef cont_c(self, percent=0.9, N=None): # bug? check axis number 0 vs 1 here\\n\\t\\t\"\"\"Return the contribution of each row.\"\"\"\\n\\n\\t\\tif not hasattr(self, \\'G\\'): self.fs_c(N=self.rank) # generate G\\n\\t\\treturn numpy.apply_along_axis(lambda _: _/self.L[:N], 1, \\n\\t\\t\\tnumpy.apply_along_axis(lambda _: _*self.c, 0, self.G[:,:N]**2))\\n\\n\\tdef fs_r_sup(self, DF, ncols=None):\\n\\t\\t\"\"\"Find the supplementary row factor scores.\\n\\n\\t\\tncols: The number of singular vectors to retain.\\n\\t\\tIf both are passed, cols is given preference.\\n\\t\\t\"\"\"\\n\\t\\tif not hasattr(self, \\'G\\'): self.fs_c(N=self.rank) # generate G\\n\\n\\t\\tif ncols and (not isinstance(ncols, int) or ncols<=0):\\n\\t\\t\\traise ValueError(\"ncols should be a positive integer.\")\\n\\t\\ts = -numpy.sqrt(self.E) if self.cor else self.s\\t\\t\\n\\t\\tN = min(ncols, self.rank) if ncols else self.rank\\n\\t\\tS_inv = scipy.linalg.diagsvd(-1/s[:N], len(self.G.T), N)\\t\\t\\n\\t\\t# S = scipy.linalg.diagsvd(s[:N], len(self.tau), N)\\n\\t\\treturn _mul(DF.div(DF.sum(axis=1), axis=0), self.G, S_inv)[:,:N]\\n\\n\\tdef fs_c_sup(self, DF, ncols=None):\\n\\t\\t\"\"\"Find the supplementary column factor scores.\\n\\n\\t\\tncols: The number of singular vectors to retain.\\n\\t\\tIf both are passed, cols is given preference.\\n\\t\\t\"\"\"\\n\\t\\tif not hasattr(self, \\'F\\'): self.fs_r(N=self.rank) # generate F\\n\\n\\t\\tif ncols and (not isinstance(ncols, int) or ncols<=0):\\n\\t\\t\\traise ValueError(\"ncols should be a positive integer.\")\\n\\t\\ts = -numpy.sqrt(self.E) if self.cor else self.s\\n\\t\\tN = min(ncols, self.rank) if ncols else self.rank\\n\\t\\tS_inv = scipy.linalg.diagsvd(-1/s[:N], len(self.F.T), N)\\t\\t\\n\\t\\t# S = scipy.linalg.diagsvd(s[:N], len(self.tau), N)\\n\\t\\treturn _mul((DF/DF.sum()).T, self.F, S_inv)[:,:N]'}"
            ]
          },
          "metadata": {
            "tags": []
          },
          "execution_count": 51
        }
      ]
    },
    {
      "cell_type": "code",
      "metadata": {
        "id": "zXrmEsDwSqc3",
        "colab_type": "code",
        "colab": {}
      },
      "source": [
        "from mca2 import *"
      ],
      "execution_count": 0,
      "outputs": []
    },
    {
      "cell_type": "markdown",
      "metadata": {
        "id": "190SMMgRTNxX",
        "colab_type": "text"
      },
      "source": [
        "On effectue un codage disjonctif complet à l'aide de `pandas.get_dummies`"
      ]
    },
    {
      "cell_type": "code",
      "metadata": {
        "id": "uaZzBpndTWx6",
        "colab_type": "code",
        "outputId": "60fefd32-26e5-4913-c8e1-85b1d45994ed",
        "colab": {
          "base_uri": "https://localhost:8080/",
          "height": 34
        }
      },
      "source": [
        "dfbin = pandas.get_dummies(df.iloc[:,:20])  # Pour binariser les variables catégoriques\n",
        "dfbin.shape"
      ],
      "execution_count": 0,
      "outputs": [
        {
          "output_type": "execute_result",
          "data": {
            "text/plain": [
              "(1000, 61)"
            ]
          },
          "metadata": {
            "tags": []
          },
          "execution_count": 75
        }
      ]
    },
    {
      "cell_type": "code",
      "metadata": {
        "id": "CifyoDskX9UR",
        "colab_type": "code",
        "outputId": "c40b40cf-c238-4e2d-fc51-31fb4590b3f2",
        "colab": {
          "base_uri": "https://localhost:8080/",
          "height": 221
        }
      },
      "source": [
        "dfbin.dtypes"
      ],
      "execution_count": 0,
      "outputs": [
        {
          "output_type": "execute_result",
          "data": {
            "text/plain": [
              "duration                  float64\n",
              "credit_amount             float64\n",
              "installment_commitment    float64\n",
              "residence_since           float64\n",
              "age                       float64\n",
              "                           ...   \n",
              "job_skilled                 uint8\n",
              "own_telephone_none          uint8\n",
              "own_telephone_yes           uint8\n",
              "foreign_worker_no           uint8\n",
              "foreign_worker_yes          uint8\n",
              "Length: 61, dtype: object"
            ]
          },
          "metadata": {
            "tags": []
          },
          "execution_count": 77
        }
      ]
    },
    {
      "cell_type": "code",
      "metadata": {
        "id": "ygRf7n7GX5Cm",
        "colab_type": "code",
        "colab": {}
      },
      "source": [
        "dfmca=mca(dfbin, benzecri=False) # On fait l'ACM"
      ],
      "execution_count": 0,
      "outputs": []
    },
    {
      "cell_type": "markdown",
      "metadata": {
        "id": "f0gdgDOiUiJx",
        "colab_type": "text"
      },
      "source": [
        "Appliquons ensuite une analyse des correspondances multiples :"
      ]
    },
    {
      "cell_type": "code",
      "metadata": {
        "id": "f0NQb0E_Tfop",
        "colab_type": "code",
        "outputId": "00e9bf28-2477-4201-f4cf-daade8f056cc",
        "colab": {
          "base_uri": "https://localhost:8080/",
          "height": 34
        }
      },
      "source": [
        "nouvellesCoordonnees=dfmca.fs_r(N=61) # 61 correspond au nombre de modalités moins le nombre de variables\n",
        "nouvellesCoordonnees.shape"
      ],
      "execution_count": 0,
      "outputs": [
        {
          "output_type": "execute_result",
          "data": {
            "text/plain": [
              "(1000, 45)"
            ]
          },
          "metadata": {
            "tags": []
          },
          "execution_count": 78
        }
      ]
    },
    {
      "cell_type": "markdown",
      "metadata": {
        "id": "xu2lSf_FadWR",
        "colab_type": "text"
      },
      "source": [
        "Mais en faisant cela, on perd en explicabilité du modèle. On remplace des variables catégoriques qui ont du sens par des varaibles numériques qui n'ont pas de sens. Donc on aura aucune chance de pouvoir interpréter le modèle de prédiction, même un modèle lisible comme un arbre de décision\n",
        "ou alors il essayer de donner du sens aux 45 variables ! La philosophie de Scikit-learn est plus de faire des modèles que de les comprendre."
      ]
    },
    {
      "cell_type": "markdown",
      "metadata": {
        "id": "nKPtxtj6b9-E",
        "colab_type": "text"
      },
      "source": [
        "ACM = Analyse en composantes multiples"
      ]
    },
    {
      "cell_type": "markdown",
      "metadata": {
        "id": "RkH9w7qScLq-",
        "colab_type": "text"
      },
      "source": [
        "# 4. Construction des modèles"
      ]
    },
    {
      "cell_type": "markdown",
      "metadata": {
        "id": "SnYC57_RcQeC",
        "colab_type": "text"
      },
      "source": [
        "Importons maintenant Scikit-learn et construisons plusieurs modèles pour prédire la variable *class* à l'aide de différents algorithmes d'apprentissage"
      ]
    },
    {
      "cell_type": "code",
      "metadata": {
        "id": "i1NXLd4VdqpE",
        "colab_type": "code",
        "colab": {}
      },
      "source": [
        "import sklearn"
      ],
      "execution_count": 0,
      "outputs": []
    },
    {
      "cell_type": "markdown",
      "metadata": {
        "id": "wJUGb1PQf0NX",
        "colab_type": "text"
      },
      "source": [
        "Définissons également les varaibles sur lesquelles nous allons travailler :"
      ]
    },
    {
      "cell_type": "code",
      "metadata": {
        "id": "93C9F4Iifzil",
        "colab_type": "code",
        "colab": {}
      },
      "source": [
        "y = df.iloc[:,-1] # target class\n",
        "X = nouvellesCoordonnees"
      ],
      "execution_count": 0,
      "outputs": []
    },
    {
      "cell_type": "markdown",
      "metadata": {
        "id": "WH4ixWevzlTq",
        "colab_type": "text"
      },
      "source": [
        "Séparaons maintenant notre jeu de données en deux parties afin d'avoir un jeu de données réservé à l'apprentissage (train) et un autre réservé à la validation (test)."
      ]
    },
    {
      "cell_type": "code",
      "metadata": {
        "id": "4_3bmfQqzFj_",
        "colab_type": "code",
        "colab": {}
      },
      "source": [
        "Xtrain, Xtest, ytrain, ytest = sklearn.model_selection.train_test_split(X, y, train_size = 0.8)"
      ],
      "execution_count": 0,
      "outputs": []
    },
    {
      "cell_type": "markdown",
      "metadata": {
        "id": "bSOi4G0wdsA6",
        "colab_type": "text"
      },
      "source": [
        "Importons également matplotlib afin de visualiser nos modèles"
      ]
    },
    {
      "cell_type": "code",
      "metadata": {
        "id": "pticRNsNdxYL",
        "colab_type": "code",
        "colab": {}
      },
      "source": [
        "import matplotlib.pyplot as plt"
      ],
      "execution_count": 0,
      "outputs": []
    },
    {
      "cell_type": "markdown",
      "metadata": {
        "id": "5tqEjhFwcvrW",
        "colab_type": "text"
      },
      "source": [
        "## **Arbre de décision**"
      ]
    },
    {
      "cell_type": "code",
      "metadata": {
        "id": "UGzTpxJHcPft",
        "colab_type": "code",
        "outputId": "cc0082da-9fd7-473a-c4b7-c581284fb297",
        "colab": {
          "base_uri": "https://localhost:8080/",
          "height": 265
        }
      },
      "source": [
        "decisionTree = sklearn.tree.DecisionTreeClassifier()\n",
        "\n",
        "decisionTree.fit(Xtrain, ytrain)\n",
        "\n",
        "plot_tree(decisionTree)\n",
        "plt.plot()"
      ],
      "execution_count": 0,
      "outputs": [
        {
          "output_type": "execute_result",
          "data": {
            "text/plain": [
              "[]"
            ]
          },
          "metadata": {
            "tags": []
          },
          "execution_count": 146
        },
        {
          "output_type": "display_data",
          "data": {
            "image/png": "[encoded data removed]",
            "text/plain": [
              "<Figure size 432x288 with 1 Axes>"
            ]
          },
          "metadata": {
            "tags": []
          }
        }
      ]
    },
    {
      "cell_type": "markdown",
      "metadata": {
        "id": "_dIE0mladacx",
        "colab_type": "text"
      },
      "source": [
        "## **K plus proches voisins**"
      ]
    },
    {
      "cell_type": "code",
      "metadata": {
        "id": "fJgRhYFFdfDx",
        "colab_type": "code",
        "outputId": "69ffeb4a-0c82-489a-e286-73d39dd7232f",
        "colab": {
          "base_uri": "https://localhost:8080/",
          "height": 68
        }
      },
      "source": [
        "kneighbors = sklearn.neighbors.KNeighborsClassifier()\n",
        "kneighbors.fit(Xtrain, ytrain)"
      ],
      "execution_count": 0,
      "outputs": [
        {
          "output_type": "execute_result",
          "data": {
            "text/plain": [
              "KNeighborsClassifier(algorithm='auto', leaf_size=30, metric='minkowski',\n",
              "                     metric_params=None, n_jobs=None, n_neighbors=5, p=2,\n",
              "                     weights='uniform')"
            ]
          },
          "metadata": {
            "tags": []
          },
          "execution_count": 147
        }
      ]
    },
    {
      "cell_type": "markdown",
      "metadata": {
        "id": "SlGdRg4Xku5z",
        "colab_type": "text"
      },
      "source": [
        "## **Régression logistique**"
      ]
    },
    {
      "cell_type": "code",
      "metadata": {
        "id": "KKQtzB_5k3CZ",
        "colab_type": "code",
        "outputId": "6a0c0307-2994-4888-fea1-c4ebcefd71c8",
        "colab": {
          "base_uri": "https://localhost:8080/",
          "height": 102
        }
      },
      "source": [
        "logisticRegression = sklearn.linear_model.LogisticRegression()\n",
        "logisticRegression.fit(Xtrain, ytrain)"
      ],
      "execution_count": 0,
      "outputs": [
        {
          "output_type": "execute_result",
          "data": {
            "text/plain": [
              "LogisticRegression(C=1.0, class_weight=None, dual=False, fit_intercept=True,\n",
              "                   intercept_scaling=1, l1_ratio=None, max_iter=100,\n",
              "                   multi_class='auto', n_jobs=None, penalty='l2',\n",
              "                   random_state=None, solver='lbfgs', tol=0.0001, verbose=0,\n",
              "                   warm_start=False)"
            ]
          },
          "metadata": {
            "tags": []
          },
          "execution_count": 148
        }
      ]
    },
    {
      "cell_type": "markdown",
      "metadata": {
        "id": "x_U6K1bNgKH_",
        "colab_type": "text"
      },
      "source": [
        "## **Forêts aléatoires**"
      ]
    },
    {
      "cell_type": "code",
      "metadata": {
        "id": "b3P4JPH9gH6k",
        "colab_type": "code",
        "outputId": "9cdab83a-2da8-4082-bce7-ada9b9b37f43",
        "colab": {
          "base_uri": "https://localhost:8080/",
          "height": 153
        }
      },
      "source": [
        "randomForests = sklearn.ensemble.RandomForestClassifier()\n",
        "randomForests.fit(Xtrain, ytrain)"
      ],
      "execution_count": 0,
      "outputs": [
        {
          "output_type": "execute_result",
          "data": {
            "text/plain": [
              "RandomForestClassifier(bootstrap=True, ccp_alpha=0.0, class_weight=None,\n",
              "                       criterion='gini', max_depth=None, max_features='auto',\n",
              "                       max_leaf_nodes=None, max_samples=None,\n",
              "                       min_impurity_decrease=0.0, min_impurity_split=None,\n",
              "                       min_samples_leaf=1, min_samples_split=2,\n",
              "                       min_weight_fraction_leaf=0.0, n_estimators=100,\n",
              "                       n_jobs=None, oob_score=False, random_state=None,\n",
              "                       verbose=0, warm_start=False)"
            ]
          },
          "metadata": {
            "tags": []
          },
          "execution_count": 153
        }
      ]
    },
    {
      "cell_type": "markdown",
      "metadata": {
        "id": "W3kTTJRjgPnP",
        "colab_type": "text"
      },
      "source": [
        "## **SVM**"
      ]
    },
    {
      "cell_type": "code",
      "metadata": {
        "id": "_k6pn1eagTK-",
        "colab_type": "code",
        "outputId": "8e1fb45c-dba5-4361-e6ee-01868045826e",
        "colab": {
          "base_uri": "https://localhost:8080/",
          "height": 85
        }
      },
      "source": [
        "svm = sklearn.svm.SVC()\n",
        "svm.fit(Xtrain, ytrain)"
      ],
      "execution_count": 0,
      "outputs": [
        {
          "output_type": "execute_result",
          "data": {
            "text/plain": [
              "SVC(C=1.0, break_ties=False, cache_size=200, class_weight=None, coef0=0.0,\n",
              "    decision_function_shape='ovr', degree=3, gamma='scale', kernel='rbf',\n",
              "    max_iter=-1, probability=False, random_state=None, shrinking=True,\n",
              "    tol=0.001, verbose=False)"
            ]
          },
          "metadata": {
            "tags": []
          },
          "execution_count": 154
        }
      ]
    },
    {
      "cell_type": "markdown",
      "metadata": {
        "id": "1KXJ5nAXlITc",
        "colab_type": "text"
      },
      "source": [
        "# 5. Evaluation des modèles"
      ]
    },
    {
      "cell_type": "markdown",
      "metadata": {
        "id": "_Sf_-WXcfkxC",
        "colab_type": "text"
      },
      "source": [
        "Evaluons maintenant nos algorithmes à l’aide d’une validation simple puis d’une validation croisée\n"
      ]
    },
    {
      "cell_type": "markdown",
      "metadata": {
        "id": "xAd1DW5ewjhF",
        "colab_type": "text"
      },
      "source": [
        "## **Arbre de décision**"
      ]
    },
    {
      "cell_type": "markdown",
      "metadata": {
        "id": "JI-fZ86o1DMd",
        "colab_type": "text"
      },
      "source": [
        "Validation simple\n"
      ]
    },
    {
      "cell_type": "code",
      "metadata": {
        "id": "MT_9mEONxBGz",
        "colab_type": "code",
        "outputId": "af4d47d8-6862-432c-f967-fb2dc0add76d",
        "colab": {
          "base_uri": "https://localhost:8080/",
          "height": 34
        }
      },
      "source": [
        "decisionTree.score(Xtest, ytest)"
      ],
      "execution_count": 0,
      "outputs": [
        {
          "output_type": "execute_result",
          "data": {
            "text/plain": [
              "0.625"
            ]
          },
          "metadata": {
            "tags": []
          },
          "execution_count": 163
        }
      ]
    },
    {
      "cell_type": "markdown",
      "metadata": {
        "id": "L6RPNjDB1CEv",
        "colab_type": "text"
      },
      "source": [
        "Validation croisée"
      ]
    },
    {
      "cell_type": "code",
      "metadata": {
        "id": "GGnKhhuS0hOP",
        "colab_type": "code",
        "outputId": "0255de01-cba5-4045-ca42-0db7814d7d3f",
        "colab": {
          "base_uri": "https://localhost:8080/",
          "height": 34
        }
      },
      "source": [
        "sklearn.model_selection.cross_val_score(decisionTree, Xtest, ytest)"
      ],
      "execution_count": 0,
      "outputs": [
        {
          "output_type": "execute_result",
          "data": {
            "text/plain": [
              "array([0.6  , 0.7  , 0.6  , 0.725, 0.6  ])"
            ]
          },
          "metadata": {
            "tags": []
          },
          "execution_count": 167
        }
      ]
    },
    {
      "cell_type": "markdown",
      "metadata": {
        "id": "zEHoZIi6wqg0",
        "colab_type": "text"
      },
      "source": [
        "## **K plus proches voisins**"
      ]
    },
    {
      "cell_type": "markdown",
      "metadata": {
        "colab_type": "text",
        "id": "Du6WFUO23TKD"
      },
      "source": [
        "Validation simple\n"
      ]
    },
    {
      "cell_type": "code",
      "metadata": {
        "colab_type": "code",
        "outputId": "dd31916a-5891-44fa-ac2b-b12ed1057e01",
        "id": "e2wrD5u03TKN",
        "colab": {
          "base_uri": "https://localhost:8080/",
          "height": 34
        }
      },
      "source": [
        "kmeans.score(Xtest, ytest)"
      ],
      "execution_count": 0,
      "outputs": [
        {
          "output_type": "execute_result",
          "data": {
            "text/plain": [
              "0.68"
            ]
          },
          "metadata": {
            "tags": []
          },
          "execution_count": 168
        }
      ]
    },
    {
      "cell_type": "markdown",
      "metadata": {
        "colab_type": "text",
        "id": "weNH6A2U3TKZ"
      },
      "source": [
        "Validation croisée"
      ]
    },
    {
      "cell_type": "code",
      "metadata": {
        "colab_type": "code",
        "outputId": "d1c5b48e-a4c3-4f69-daf3-9dd1ee3d9752",
        "id": "MV-3IPEi3TKb",
        "colab": {
          "base_uri": "https://localhost:8080/",
          "height": 34
        }
      },
      "source": [
        "sklearn.model_selection.cross_val_score(kmeans, Xtest, ytest)"
      ],
      "execution_count": 0,
      "outputs": [
        {
          "output_type": "execute_result",
          "data": {
            "text/plain": [
              "array([0.775, 0.675, 0.65 , 0.6  , 0.675])"
            ]
          },
          "metadata": {
            "tags": []
          },
          "execution_count": 169
        }
      ]
    },
    {
      "cell_type": "markdown",
      "metadata": {
        "id": "5UgyTXo1wqq2",
        "colab_type": "text"
      },
      "source": [
        "## **Régression logistique**"
      ]
    },
    {
      "cell_type": "markdown",
      "metadata": {
        "colab_type": "text",
        "id": "vYVuysg_3Ywf"
      },
      "source": [
        "Validation simple\n"
      ]
    },
    {
      "cell_type": "code",
      "metadata": {
        "colab_type": "code",
        "outputId": "dcf89937-5771-4e21-b97a-0d2bf69837db",
        "id": "-SzK0-Cm3Ywi",
        "colab": {
          "base_uri": "https://localhost:8080/",
          "height": 34
        }
      },
      "source": [
        "logisticRegression.score(Xtest, ytest)"
      ],
      "execution_count": 0,
      "outputs": [
        {
          "output_type": "execute_result",
          "data": {
            "text/plain": [
              "0.69"
            ]
          },
          "metadata": {
            "tags": []
          },
          "execution_count": 174
        }
      ]
    },
    {
      "cell_type": "markdown",
      "metadata": {
        "colab_type": "text",
        "id": "NdIRzi0P3Ywq"
      },
      "source": [
        "Validation croisée"
      ]
    },
    {
      "cell_type": "code",
      "metadata": {
        "colab_type": "code",
        "outputId": "10df4f91-c457-4399-caa7-8e8898605659",
        "id": "VMrDektF3Yws",
        "colab": {
          "base_uri": "https://localhost:8080/",
          "height": 34
        }
      },
      "source": [
        "sklearn.model_selection.cross_val_score(logisticRegression, Xtest, ytest)"
      ],
      "execution_count": 0,
      "outputs": [
        {
          "output_type": "execute_result",
          "data": {
            "text/plain": [
              "array([0.7  , 0.675, 0.675, 0.675, 0.675])"
            ]
          },
          "metadata": {
            "tags": []
          },
          "execution_count": 171
        }
      ]
    },
    {
      "cell_type": "markdown",
      "metadata": {
        "id": "jsRKdegkwqz5",
        "colab_type": "text"
      },
      "source": [
        "## **Forêts aléatoires**"
      ]
    },
    {
      "cell_type": "markdown",
      "metadata": {
        "colab_type": "text",
        "id": "jMhfJ5ZF3lOz"
      },
      "source": [
        "Validation simple\n"
      ]
    },
    {
      "cell_type": "code",
      "metadata": {
        "colab_type": "code",
        "outputId": "a38225ff-3d1c-4aff-c025-905ebce7ca8e",
        "id": "dM4qsVX-3lO8",
        "colab": {
          "base_uri": "https://localhost:8080/",
          "height": 34
        }
      },
      "source": [
        "randomForests.score(Xtest, ytest)"
      ],
      "execution_count": 0,
      "outputs": [
        {
          "output_type": "execute_result",
          "data": {
            "text/plain": [
              "0.715"
            ]
          },
          "metadata": {
            "tags": []
          },
          "execution_count": 175
        }
      ]
    },
    {
      "cell_type": "markdown",
      "metadata": {
        "colab_type": "text",
        "id": "3Zlsvftn3lPH"
      },
      "source": [
        "Validation croisée"
      ]
    },
    {
      "cell_type": "code",
      "metadata": {
        "colab_type": "code",
        "outputId": "19ca3db5-71ae-4144-c44b-88f61110aea7",
        "id": "VRW1o2KK3lPJ",
        "colab": {
          "base_uri": "https://localhost:8080/",
          "height": 34
        }
      },
      "source": [
        "sklearn.model_selection.cross_val_score(randomForests, Xtest, ytest)"
      ],
      "execution_count": 0,
      "outputs": [
        {
          "output_type": "execute_result",
          "data": {
            "text/plain": [
              "array([0.7  , 0.725, 0.7  , 0.65 , 0.6  ])"
            ]
          },
          "metadata": {
            "tags": []
          },
          "execution_count": 176
        }
      ]
    },
    {
      "cell_type": "markdown",
      "metadata": {
        "id": "sUcbpuP5wq9r",
        "colab_type": "text"
      },
      "source": [
        "## **SVM**"
      ]
    },
    {
      "cell_type": "markdown",
      "metadata": {
        "colab_type": "text",
        "id": "Y2htMiRc30tK"
      },
      "source": [
        "Validation simple\n"
      ]
    },
    {
      "cell_type": "code",
      "metadata": {
        "colab_type": "code",
        "outputId": "1f98dc99-aa69-42b0-9077-a7d3d067cd05",
        "id": "vj4CxD0v30tV",
        "colab": {
          "base_uri": "https://localhost:8080/",
          "height": 34
        }
      },
      "source": [
        "svm.score(Xtest, ytest)"
      ],
      "execution_count": 0,
      "outputs": [
        {
          "output_type": "execute_result",
          "data": {
            "text/plain": [
              "0.705"
            ]
          },
          "metadata": {
            "tags": []
          },
          "execution_count": 179
        }
      ]
    },
    {
      "cell_type": "markdown",
      "metadata": {
        "colab_type": "text",
        "id": "ChCbtOQv30tj"
      },
      "source": [
        "Validation croisée"
      ]
    },
    {
      "cell_type": "code",
      "metadata": {
        "colab_type": "code",
        "outputId": "f8309e41-cef2-4d35-8e4d-569bd5c5a0b1",
        "id": "E81iuWI830tl",
        "colab": {
          "base_uri": "https://localhost:8080/",
          "height": 34
        }
      },
      "source": [
        "sklearn.model_selection.cross_val_score(svm, Xtest, ytest)"
      ],
      "execution_count": 0,
      "outputs": [
        {
          "output_type": "execute_result",
          "data": {
            "text/plain": [
              "array([0.725, 0.7  , 0.675, 0.675, 0.65 ])"
            ]
          },
          "metadata": {
            "tags": []
          },
          "execution_count": 180
        }
      ]
    },
    {
      "cell_type": "markdown",
      "metadata": {
        "id": "QLgZNuCrlLXE",
        "colab_type": "text"
      },
      "source": [
        "# 6. Qualité des modèles en fonction de la complexité"
      ]
    },
    {
      "cell_type": "markdown",
      "metadata": {
        "id": "rkSTwhY96cam",
        "colab_type": "text"
      },
      "source": [
        "Observons maintenant l'évolution de la qualité de nos modèles en fonction de leur complexité :"
      ]
    },
    {
      "cell_type": "markdown",
      "metadata": {
        "id": "AeGS0txVlNlO",
        "colab_type": "text"
      },
      "source": [
        "Pour la complexité :\n",
        "\n",
        "Pour la régression logistique (classe LogisticRegression), le paramètre de complexité est C. Attention c'est une échelle logarithmique, il peut prendre de très grandes valeurs comme très petites (mais tjs positives)\n",
        "\n",
        "Pour les classifieurs SVM (classe SVC), le paramètre s'appelle C aussi (grandes valeurs aussi)\n",
        "\n",
        "Pour les k plus proches voisins (KNeighborsClassifier), je vous laisse trouver le paramètre !"
      ]
    },
    {
      "cell_type": "markdown",
      "metadata": {
        "colab_type": "text",
        "id": "9Vw598Nb7O0c"
      },
      "source": [
        "## **Arbre de décision**"
      ]
    },
    {
      "cell_type": "code",
      "metadata": {
        "colab_type": "code",
        "outputId": "65e9d08d-8996-4bb2-825a-fe9fb43a0da7",
        "id": "c9UoK1Xn7O07",
        "colab": {
          "base_uri": "https://localhost:8080/",
          "height": 280
        }
      },
      "source": [
        "complexities = []\n",
        "\n",
        "for d in range(1,100):\n",
        "  decisionTree = sklearn.tree.DecisionTreeClassifier(max_depth=d)\n",
        "  decisionTree.fit(Xtrain, ytrain)\n",
        "  complexities.append(decisionTree.score(Xtest, ytest))\n",
        "\n",
        "plt.plot(range(1,100),complexities)\n",
        "plt.xlabel(\"Complexité : profondeur maximale de l'arbre\")\n",
        "plt.ylabel(\"Score\")\n",
        "\n",
        "plt.show()"
      ],
      "execution_count": 0,
      "outputs": [
        {
          "output_type": "display_data",
          "data": {
            "image/png": "[encoded data removed]",
            "text/plain": [
              "<Figure size 432x288 with 1 Axes>"
            ]
          },
          "metadata": {
            "tags": []
          }
        }
      ]
    },
    {
      "cell_type": "markdown",
      "metadata": {
        "colab_type": "text",
        "id": "Om--3aYG7O1W"
      },
      "source": [
        "## **K plus proches voisins**"
      ]
    },
    {
      "cell_type": "code",
      "metadata": {
        "colab_type": "code",
        "outputId": "39bc0be9-2e40-421b-f697-8694775e75b9",
        "id": "U5Be0VzC7O1a",
        "colab": {
          "base_uri": "https://localhost:8080/",
          "height": 280
        }
      },
      "source": [
        "complexities = []\n",
        "\n",
        "for n in range(1,100):\n",
        "  kneighbors = sklearn.neighbors.KNeighborsClassifier(n_neighbors=n)\n",
        "  kneighbors.fit(Xtrain, ytrain)\n",
        "  complexities.append(kneighbors.score(Xtest, ytest))\n",
        "\n",
        "plt.plot(range(1,100),complexities)\n",
        "plt.xlabel(\"Complexité : nombre de points\")\n",
        "plt.ylabel(\"Score\")\n",
        "\n",
        "plt.show()"
      ],
      "execution_count": 0,
      "outputs": [
        {
          "output_type": "display_data",
          "data": {
            "image/png": "[encoded data removed]",
            "text/plain": [
              "<Figure size 432x288 with 1 Axes>"
            ]
          },
          "metadata": {
            "tags": []
          }
        }
      ]
    },
    {
      "cell_type": "markdown",
      "metadata": {
        "colab_type": "text",
        "id": "fl1b0DDR7O1h"
      },
      "source": [
        "## **Régression logistique**"
      ]
    },
    {
      "cell_type": "code",
      "metadata": {
        "colab_type": "code",
        "outputId": "8e86c468-796f-4ad3-dff2-35f2906f437f",
        "id": "AcjYr4eW7O1i",
        "colab": {
          "base_uri": "https://localhost:8080/",
          "height": 1000
        }
      },
      "source": [
        "complexities = []\n",
        "\n",
        "for c in range(1,100):\n",
        "  logisticRegression = sklearn.linear_model.LogisticRegression(C=c)\n",
        "  logisticRegression.fit(Xtrain, ytrain)\n",
        "  complexities.append(logisticRegression.score(Xtest, ytest))\n",
        "\n",
        "plt.plot(range(1,100),complexities)\n",
        "plt.xlabel(\"Complexité\")\n",
        "plt.ylabel(\"Score\")\n",
        "\n",
        "plt.show()"
      ],
      "execution_count": 0,
      "outputs": [
        {
          "output_type": "stream",
          "text": [
            "/usr/local/lib/python3.6/dist-packages/sklearn/linear_model/_logistic.py:940: ConvergenceWarning: lbfgs failed to converge (status=1):\n",
            "STOP: TOTAL NO. of ITERATIONS REACHED LIMIT.\n",
            "\n",
            "Increase the number of iterations (max_iter) or scale the data as shown in:\n",
            "    https://scikit-learn.org/stable/modules/preprocessing.html\n",
            "Please also refer to the documentation for alternative solver options:\n",
            "    https://scikit-learn.org/stable/modules/linear_model.html#logistic-regression\n",
            "  extra_warning_msg=_LOGISTIC_SOLVER_CONVERGENCE_MSG)\n",
            "/usr/local/lib/python3.6/dist-packages/sklearn/linear_model/_logistic.py:940: ConvergenceWarning: lbfgs failed to converge (status=1):\n",
            "STOP: TOTAL NO. of ITERATIONS REACHED LIMIT.\n",
            "\n",
            "Increase the number of iterations (max_iter) or scale the data as shown in:\n",
            "    https://scikit-learn.org/stable/modules/preprocessing.html\n",
            "Please also refer to the documentation for alternative solver options:\n",
            "    https://scikit-learn.org/stable/modules/linear_model.html#logistic-regression\n",
            "  extra_warning_msg=_LOGISTIC_SOLVER_CONVERGENCE_MSG)\n",
            "/usr/local/lib/python3.6/dist-packages/sklearn/linear_model/_logistic.py:940: ConvergenceWarning: lbfgs failed to converge (status=1):\n",
            "STOP: TOTAL NO. of ITERATIONS REACHED LIMIT.\n",
            "\n",
            "Increase the number of iterations (max_iter) or scale the data as shown in:\n",
            "    https://scikit-learn.org/stable/modules/preprocessing.html\n",
            "Please also refer to the documentation for alternative solver options:\n",
            "    https://scikit-learn.org/stable/modules/linear_model.html#logistic-regression\n",
            "  extra_warning_msg=_LOGISTIC_SOLVER_CONVERGENCE_MSG)\n",
            "/usr/local/lib/python3.6/dist-packages/sklearn/linear_model/_logistic.py:940: ConvergenceWarning: lbfgs failed to converge (status=1):\n",
            "STOP: TOTAL NO. of ITERATIONS REACHED LIMIT.\n",
            "\n",
            "Increase the number of iterations (max_iter) or scale the data as shown in:\n",
            "    https://scikit-learn.org/stable/modules/preprocessing.html\n",
            "Please also refer to the documentation for alternative solver options:\n",
            "    https://scikit-learn.org/stable/modules/linear_model.html#logistic-regression\n",
            "  extra_warning_msg=_LOGISTIC_SOLVER_CONVERGENCE_MSG)\n",
            "/usr/local/lib/python3.6/dist-packages/sklearn/linear_model/_logistic.py:940: ConvergenceWarning: lbfgs failed to converge (status=1):\n",
            "STOP: TOTAL NO. of ITERATIONS REACHED LIMIT.\n",
            "\n",
            "Increase the number of iterations (max_iter) or scale the data as shown in:\n",
            "    https://scikit-learn.org/stable/modules/preprocessing.html\n",
            "Please also refer to the documentation for alternative solver options:\n",
            "    https://scikit-learn.org/stable/modules/linear_model.html#logistic-regression\n",
            "  extra_warning_msg=_LOGISTIC_SOLVER_CONVERGENCE_MSG)\n",
            "/usr/local/lib/python3.6/dist-packages/sklearn/linear_model/_logistic.py:940: ConvergenceWarning: lbfgs failed to converge (status=1):\n",
            "STOP: TOTAL NO. of ITERATIONS REACHED LIMIT.\n",
            "\n",
            "Increase the number of iterations (max_iter) or scale the data as shown in:\n",
            "    https://scikit-learn.org/stable/modules/preprocessing.html\n",
            "Please also refer to the documentation for alternative solver options:\n",
            "    https://scikit-learn.org/stable/modules/linear_model.html#logistic-regression\n",
            "  extra_warning_msg=_LOGISTIC_SOLVER_CONVERGENCE_MSG)\n",
            "/usr/local/lib/python3.6/dist-packages/sklearn/linear_model/_logistic.py:940: ConvergenceWarning: lbfgs failed to converge (status=1):\n",
            "STOP: TOTAL NO. of ITERATIONS REACHED LIMIT.\n",
            "\n",
            "Increase the number of iterations (max_iter) or scale the data as shown in:\n",
            "    https://scikit-learn.org/stable/modules/preprocessing.html\n",
            "Please also refer to the documentation for alternative solver options:\n",
            "    https://scikit-learn.org/stable/modules/linear_model.html#logistic-regression\n",
            "  extra_warning_msg=_LOGISTIC_SOLVER_CONVERGENCE_MSG)\n",
            "/usr/local/lib/python3.6/dist-packages/sklearn/linear_model/_logistic.py:940: ConvergenceWarning: lbfgs failed to converge (status=1):\n",
            "STOP: TOTAL NO. of ITERATIONS REACHED LIMIT.\n",
            "\n",
            "Increase the number of iterations (max_iter) or scale the data as shown in:\n",
            "    https://scikit-learn.org/stable/modules/preprocessing.html\n",
            "Please also refer to the documentation for alternative solver options:\n",
            "    https://scikit-learn.org/stable/modules/linear_model.html#logistic-regression\n",
            "  extra_warning_msg=_LOGISTIC_SOLVER_CONVERGENCE_MSG)\n",
            "/usr/local/lib/python3.6/dist-packages/sklearn/linear_model/_logistic.py:940: ConvergenceWarning: lbfgs failed to converge (status=1):\n",
            "STOP: TOTAL NO. of ITERATIONS REACHED LIMIT.\n",
            "\n",
            "Increase the number of iterations (max_iter) or scale the data as shown in:\n",
            "    https://scikit-learn.org/stable/modules/preprocessing.html\n",
            "Please also refer to the documentation for alternative solver options:\n",
            "    https://scikit-learn.org/stable/modules/linear_model.html#logistic-regression\n",
            "  extra_warning_msg=_LOGISTIC_SOLVER_CONVERGENCE_MSG)\n",
            "/usr/local/lib/python3.6/dist-packages/sklearn/linear_model/_logistic.py:940: ConvergenceWarning: lbfgs failed to converge (status=1):\n",
            "STOP: TOTAL NO. of ITERATIONS REACHED LIMIT.\n",
            "\n",
            "Increase the number of iterations (max_iter) or scale the data as shown in:\n",
            "    https://scikit-learn.org/stable/modules/preprocessing.html\n",
            "Please also refer to the documentation for alternative solver options:\n",
            "    https://scikit-learn.org/stable/modules/linear_model.html#logistic-regression\n",
            "  extra_warning_msg=_LOGISTIC_SOLVER_CONVERGENCE_MSG)\n",
            "/usr/local/lib/python3.6/dist-packages/sklearn/linear_model/_logistic.py:940: ConvergenceWarning: lbfgs failed to converge (status=1):\n",
            "STOP: TOTAL NO. of ITERATIONS REACHED LIMIT.\n",
            "\n",
            "Increase the number of iterations (max_iter) or scale the data as shown in:\n",
            "    https://scikit-learn.org/stable/modules/preprocessing.html\n",
            "Please also refer to the documentation for alternative solver options:\n",
            "    https://scikit-learn.org/stable/modules/linear_model.html#logistic-regression\n",
            "  extra_warning_msg=_LOGISTIC_SOLVER_CONVERGENCE_MSG)\n",
            "/usr/local/lib/python3.6/dist-packages/sklearn/linear_model/_logistic.py:940: ConvergenceWarning: lbfgs failed to converge (status=1):\n",
            "STOP: TOTAL NO. of ITERATIONS REACHED LIMIT.\n",
            "\n",
            "Increase the number of iterations (max_iter) or scale the data as shown in:\n",
            "    https://scikit-learn.org/stable/modules/preprocessing.html\n",
            "Please also refer to the documentation for alternative solver options:\n",
            "    https://scikit-learn.org/stable/modules/linear_model.html#logistic-regression\n",
            "  extra_warning_msg=_LOGISTIC_SOLVER_CONVERGENCE_MSG)\n",
            "/usr/local/lib/python3.6/dist-packages/sklearn/linear_model/_logistic.py:940: ConvergenceWarning: lbfgs failed to converge (status=1):\n",
            "STOP: TOTAL NO. of ITERATIONS REACHED LIMIT.\n",
            "\n",
            "Increase the number of iterations (max_iter) or scale the data as shown in:\n",
            "    https://scikit-learn.org/stable/modules/preprocessing.html\n",
            "Please also refer to the documentation for alternative solver options:\n",
            "    https://scikit-learn.org/stable/modules/linear_model.html#logistic-regression\n",
            "  extra_warning_msg=_LOGISTIC_SOLVER_CONVERGENCE_MSG)\n",
            "/usr/local/lib/python3.6/dist-packages/sklearn/linear_model/_logistic.py:940: ConvergenceWarning: lbfgs failed to converge (status=1):\n",
            "STOP: TOTAL NO. of ITERATIONS REACHED LIMIT.\n",
            "\n",
            "Increase the number of iterations (max_iter) or scale the data as shown in:\n",
            "    https://scikit-learn.org/stable/modules/preprocessing.html\n",
            "Please also refer to the documentation for alternative solver options:\n",
            "    https://scikit-learn.org/stable/modules/linear_model.html#logistic-regression\n",
            "  extra_warning_msg=_LOGISTIC_SOLVER_CONVERGENCE_MSG)\n",
            "/usr/local/lib/python3.6/dist-packages/sklearn/linear_model/_logistic.py:940: ConvergenceWarning: lbfgs failed to converge (status=1):\n",
            "STOP: TOTAL NO. of ITERATIONS REACHED LIMIT.\n",
            "\n",
            "Increase the number of iterations (max_iter) or scale the data as shown in:\n",
            "    https://scikit-learn.org/stable/modules/preprocessing.html\n",
            "Please also refer to the documentation for alternative solver options:\n",
            "    https://scikit-learn.org/stable/modules/linear_model.html#logistic-regression\n",
            "  extra_warning_msg=_LOGISTIC_SOLVER_CONVERGENCE_MSG)\n",
            "/usr/local/lib/python3.6/dist-packages/sklearn/linear_model/_logistic.py:940: ConvergenceWarning: lbfgs failed to converge (status=1):\n",
            "STOP: TOTAL NO. of ITERATIONS REACHED LIMIT.\n",
            "\n",
            "Increase the number of iterations (max_iter) or scale the data as shown in:\n",
            "    https://scikit-learn.org/stable/modules/preprocessing.html\n",
            "Please also refer to the documentation for alternative solver options:\n",
            "    https://scikit-learn.org/stable/modules/linear_model.html#logistic-regression\n",
            "  extra_warning_msg=_LOGISTIC_SOLVER_CONVERGENCE_MSG)\n",
            "/usr/local/lib/python3.6/dist-packages/sklearn/linear_model/_logistic.py:940: ConvergenceWarning: lbfgs failed to converge (status=1):\n",
            "STOP: TOTAL NO. of ITERATIONS REACHED LIMIT.\n",
            "\n",
            "Increase the number of iterations (max_iter) or scale the data as shown in:\n",
            "    https://scikit-learn.org/stable/modules/preprocessing.html\n",
            "Please also refer to the documentation for alternative solver options:\n",
            "    https://scikit-learn.org/stable/modules/linear_model.html#logistic-regression\n",
            "  extra_warning_msg=_LOGISTIC_SOLVER_CONVERGENCE_MSG)\n",
            "/usr/local/lib/python3.6/dist-packages/sklearn/linear_model/_logistic.py:940: ConvergenceWarning: lbfgs failed to converge (status=1):\n",
            "STOP: TOTAL NO. of ITERATIONS REACHED LIMIT.\n",
            "\n",
            "Increase the number of iterations (max_iter) or scale the data as shown in:\n",
            "    https://scikit-learn.org/stable/modules/preprocessing.html\n",
            "Please also refer to the documentation for alternative solver options:\n",
            "    https://scikit-learn.org/stable/modules/linear_model.html#logistic-regression\n",
            "  extra_warning_msg=_LOGISTIC_SOLVER_CONVERGENCE_MSG)\n",
            "/usr/local/lib/python3.6/dist-packages/sklearn/linear_model/_logistic.py:940: ConvergenceWarning: lbfgs failed to converge (status=1):\n",
            "STOP: TOTAL NO. of ITERATIONS REACHED LIMIT.\n",
            "\n",
            "Increase the number of iterations (max_iter) or scale the data as shown in:\n",
            "    https://scikit-learn.org/stable/modules/preprocessing.html\n",
            "Please also refer to the documentation for alternative solver options:\n",
            "    https://scikit-learn.org/stable/modules/linear_model.html#logistic-regression\n",
            "  extra_warning_msg=_LOGISTIC_SOLVER_CONVERGENCE_MSG)\n",
            "/usr/local/lib/python3.6/dist-packages/sklearn/linear_model/_logistic.py:940: ConvergenceWarning: lbfgs failed to converge (status=1):\n",
            "STOP: TOTAL NO. of ITERATIONS REACHED LIMIT.\n",
            "\n",
            "Increase the number of iterations (max_iter) or scale the data as shown in:\n",
            "    https://scikit-learn.org/stable/modules/preprocessing.html\n",
            "Please also refer to the documentation for alternative solver options:\n",
            "    https://scikit-learn.org/stable/modules/linear_model.html#logistic-regression\n",
            "  extra_warning_msg=_LOGISTIC_SOLVER_CONVERGENCE_MSG)\n",
            "/usr/local/lib/python3.6/dist-packages/sklearn/linear_model/_logistic.py:940: ConvergenceWarning: lbfgs failed to converge (status=1):\n",
            "STOP: TOTAL NO. of ITERATIONS REACHED LIMIT.\n",
            "\n",
            "Increase the number of iterations (max_iter) or scale the data as shown in:\n",
            "    https://scikit-learn.org/stable/modules/preprocessing.html\n",
            "Please also refer to the documentation for alternative solver options:\n",
            "    https://scikit-learn.org/stable/modules/linear_model.html#logistic-regression\n",
            "  extra_warning_msg=_LOGISTIC_SOLVER_CONVERGENCE_MSG)\n",
            "/usr/local/lib/python3.6/dist-packages/sklearn/linear_model/_logistic.py:940: ConvergenceWarning: lbfgs failed to converge (status=1):\n",
            "STOP: TOTAL NO. of ITERATIONS REACHED LIMIT.\n",
            "\n",
            "Increase the number of iterations (max_iter) or scale the data as shown in:\n",
            "    https://scikit-learn.org/stable/modules/preprocessing.html\n",
            "Please also refer to the documentation for alternative solver options:\n",
            "    https://scikit-learn.org/stable/modules/linear_model.html#logistic-regression\n",
            "  extra_warning_msg=_LOGISTIC_SOLVER_CONVERGENCE_MSG)\n",
            "/usr/local/lib/python3.6/dist-packages/sklearn/linear_model/_logistic.py:940: ConvergenceWarning: lbfgs failed to converge (status=1):\n",
            "STOP: TOTAL NO. of ITERATIONS REACHED LIMIT.\n",
            "\n",
            "Increase the number of iterations (max_iter) or scale the data as shown in:\n",
            "    https://scikit-learn.org/stable/modules/preprocessing.html\n",
            "Please also refer to the documentation for alternative solver options:\n",
            "    https://scikit-learn.org/stable/modules/linear_model.html#logistic-regression\n",
            "  extra_warning_msg=_LOGISTIC_SOLVER_CONVERGENCE_MSG)\n",
            "/usr/local/lib/python3.6/dist-packages/sklearn/linear_model/_logistic.py:940: ConvergenceWarning: lbfgs failed to converge (status=1):\n",
            "STOP: TOTAL NO. of ITERATIONS REACHED LIMIT.\n",
            "\n",
            "Increase the number of iterations (max_iter) or scale the data as shown in:\n",
            "    https://scikit-learn.org/stable/modules/preprocessing.html\n",
            "Please also refer to the documentation for alternative solver options:\n",
            "    https://scikit-learn.org/stable/modules/linear_model.html#logistic-regression\n",
            "  extra_warning_msg=_LOGISTIC_SOLVER_CONVERGENCE_MSG)\n"
          ],
          "name": "stderr"
        },
        {
          "output_type": "display_data",
          "data": {
            "image/png": "[encoded data removed]",
            "text/plain": [
              "<Figure size 432x288 with 1 Axes>"
            ]
          },
          "metadata": {
            "tags": []
          }
        }
      ]
    },
    {
      "cell_type": "markdown",
      "metadata": {
        "colab_type": "text",
        "id": "VFwFLjpu7O1o"
      },
      "source": [
        "## **Forêts aléatoires**"
      ]
    },
    {
      "cell_type": "code",
      "metadata": {
        "colab_type": "code",
        "outputId": "fa55d4a8-a169-4afc-bdee-c162638650dd",
        "id": "OriQAnRs7O1p",
        "colab": {
          "base_uri": "https://localhost:8080/",
          "height": 280
        }
      },
      "source": [
        "complexities = []\n",
        "\n",
        "for d in range(1,100):\n",
        "  randomForests = sklearn.ensemble.RandomForestClassifier(max_depth=d)\n",
        "  randomForests.fit(Xtrain, ytrain)\n",
        "  complexities.append(randomForests.score(Xtest, ytest))\n",
        "\n",
        "plt.plot(range(1,100),complexities)\n",
        "plt.xlabel(\"Complexité : profondeur maximale de l'arbre\")\n",
        "plt.ylabel(\"Score\")\n",
        "\n",
        "plt.show()"
      ],
      "execution_count": 0,
      "outputs": [
        {
          "output_type": "display_data",
          "data": {
            "image/png": "[encoded data removed]",
            "text/plain": [
              "<Figure size 432x288 with 1 Axes>"
            ]
          },
          "metadata": {
            "tags": []
          }
        }
      ]
    },
    {
      "cell_type": "markdown",
      "metadata": {
        "colab_type": "text",
        "id": "IpCA8HbY7O1w"
      },
      "source": [
        "## **SVM**"
      ]
    },
    {
      "cell_type": "code",
      "metadata": {
        "colab_type": "code",
        "outputId": "9e0f10c3-7475-40b2-b9e1-4c35d89e2099",
        "id": "TBanV4KJ7O1x",
        "colab": {
          "base_uri": "https://localhost:8080/",
          "height": 280
        }
      },
      "source": [
        "complexities = []\n",
        "\n",
        "for c in range(1,100):\n",
        "  svm = sklearn.svm.SVC(C=c)\n",
        "  svm.fit(Xtrain, ytrain)\n",
        "  complexities.append(svm.score(Xtest, ytest))\n",
        "\n",
        "plt.plot(range(1,100),complexities)\n",
        "plt.xlabel(\"Complexité\")\n",
        "plt.ylabel(\"Score\")\n",
        "\n",
        "plt.show()"
      ],
      "execution_count": 0,
      "outputs": [
        {
          "output_type": "display_data",
          "data": {
            "image/png": "[encoded data removed]",
            "text/plain": [
              "<Figure size 432x288 with 1 Axes>"
            ]
          },
          "metadata": {
            "tags": []
          }
        }
      ]
    }
  ]
}